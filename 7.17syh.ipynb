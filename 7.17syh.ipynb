{
 "cells": [
  {
   "cell_type": "markdown",
   "metadata": {},
   "source": [
    "# 数学函数、字符串和对象\n",
    "## 本章介绍Python函数来执行常见的数学运算\n",
    "- 函数是完成一个特殊任务的一组语句，可以理解为一个函数相当于一个小功能，但是在开发中，需要注意一个函数的长度最好不要超过一屏\n",
    "- Python中的内置函数是不需要Import导入的\n",
    "<img src=\"../Photo/15.png\"></img>"
   ]
  },
  {
   "cell_type": "markdown",
   "metadata": {},
   "source": [
    "## 尝试练习Python内置函数"
   ]
  },
  {
   "cell_type": "markdown",
   "metadata": {},
   "source": [
    "## Python中的math模块提供了许多数学函数\n",
    "<img src=\"../Photo/16.png\"></img>\n",
    "<img src=\"../Photo/17.png\"></img>\n"
   ]
  },
  {
   "cell_type": "markdown",
   "metadata": {},
   "source": [
    "## 两个数学常量PI和e，可以通过使用math.pi 和math.e调用"
   ]
  },
  {
   "cell_type": "code",
   "execution_count": null,
   "metadata": {},
   "outputs": [],
   "source": [
    "import math"
   ]
  },
  {
   "cell_type": "code",
   "execution_count": null,
   "metadata": {},
   "outputs": [],
   "source": [
    "a=eval(input(\"a\"))\n"
   ]
  },
  {
   "cell_type": "markdown",
   "metadata": {},
   "source": [
    "## EP:\n",
    "- 通过math库，写一个程序，使得用户输入三个顶点(x,y)返回三个角度\n",
    "- 注意：Python计算角度为弧度制，需要将其转换为角度\n",
    "<img src=\"../Photo/18.png\">"
   ]
  },
  {
   "cell_type": "code",
   "execution_count": 1,
   "metadata": {},
   "outputs": [
    {
     "name": "stdout",
     "output_type": "stream",
     "text": [
      "ax2=eval(input(\"a\"))\n"
     ]
    },
    {
     "ename": "SyntaxError",
     "evalue": "invalid syntax (<string>, line 1)",
     "output_type": "error",
     "traceback": [
      "Traceback \u001b[1;36m(most recent call last)\u001b[0m:\n",
      "  File \u001b[0;32m\"C:\\ProgramData\\Anaconda3\\lib\\site-packages\\IPython\\core\\interactiveshell.py\"\u001b[0m, line \u001b[0;32m2910\u001b[0m, in \u001b[0;35mrun_code\u001b[0m\n    exec(code_obj, self.user_global_ns, self.user_ns)\n",
      "\u001b[1;36m  File \u001b[1;32m\"<ipython-input-1-9675f9448291>\"\u001b[1;36m, line \u001b[1;32m1\u001b[1;36m, in \u001b[1;35m<module>\u001b[1;36m\u001b[0m\n\u001b[1;33m    x1=eval(input(\"a\"))\u001b[0m\n",
      "\u001b[1;36m  File \u001b[1;32m\"<string>\"\u001b[1;36m, line \u001b[1;32m1\u001b[0m\n\u001b[1;33m    x2=eval(input(\"a\"))\u001b[0m\n\u001b[1;37m      ^\u001b[0m\n\u001b[1;31mSyntaxError\u001b[0m\u001b[1;31m:\u001b[0m invalid syntax\n"
     ]
    }
   ],
   "source": [
    "x1=eval(input(\"x1\"))\n",
    "y1=eval(input(\"y1\"))\n",
    "x2=eval(input(\"x2\"))\n",
    "y2=eval(input(\"y2\"))\n",
    "x3=eval(input(\"x3\"))\n",
    "y2=eval(input(\"y3\"))\n",
    "a=math.sqrt(x2-x3)*(x2-x3)+(y2-y3)*(y2-y3)"
   ]
  },
  {
   "cell_type": "markdown",
   "metadata": {},
   "source": [
    "## 字符串和字符\n",
    "- 在Python中，字符串必须是在单引号或者双引号内，在多段换行的字符串中可以使用“”“\n",
    "- 在使用”“”时，给予其变量则变为字符串，否则当多行注释使用"
   ]
  },
  {
   "cell_type": "code",
   "execution_count": null,
   "metadata": {},
   "outputs": [],
   "source": [
    "\"\"\"在Python中，字符串必须是在单引号或者双引号内，在多段换行的字符串中可以使用“”“\n",
    "在使用”“”时，给予其变量则变为字符串，否则当多行注释使用\"\"\"\n",
    "# 当6个引号没有赋值的时候是注释作用\n",
    "#用引号引起来的就是字符串"
   ]
  },
  {
   "cell_type": "markdown",
   "metadata": {},
   "source": [
    "## ASCII码与Unicode码\n",
    "- <img src=\"../Photo/19.png\"></img>\n",
    "- <img src=\"../Photo/20.png\"></img>\n",
    "- <img src=\"../Photo/21.png\"></img>"
   ]
  },
  {
   "cell_type": "markdown",
   "metadata": {},
   "source": [
    "## 函数ord、chr\n",
    "- ord 返回ASCII码值\n",
    "- chr 返回字符"
   ]
  },
  {
   "cell_type": "code",
   "execution_count": null,
   "metadata": {},
   "outputs": [],
   "source": [
    "joker=\"A\"\n",
    "ord "
   ]
  },
  {
   "cell_type": "markdown",
   "metadata": {},
   "source": [
    "## EP:\n",
    "- 利用ord与chr进行简单邮箱加密"
   ]
  },
  {
   "cell_type": "code",
   "execution_count": 5,
   "metadata": {},
   "outputs": [
    {
     "ename": "NameError",
     "evalue": "name 'test_test' is not defined",
     "output_type": "error",
     "traceback": [
      "\u001b[1;31m---------------------------------------------------------------------------\u001b[0m",
      "\u001b[1;31mNameError\u001b[0m                                 Traceback (most recent call last)",
      "\u001b[1;32m<ipython-input-5-c58593d17df9>\u001b[0m in \u001b[0;36m<module>\u001b[1;34m()\u001b[0m\n\u001b[0;32m      3\u001b[0m     \u001b[0mtest\u001b[0m\u001b[1;33m=\u001b[0m\u001b[0mord\u001b[0m\u001b[1;33m(\u001b[0m\u001b[0mi\u001b[0m\u001b[1;33m)\u001b[0m\u001b[1;33m+\u001b[0m\u001b[1;36m1\u001b[0m\u001b[1;33m\u001b[0m\u001b[0m\n\u001b[0;32m      4\u001b[0m     \u001b[0mtese_test\u001b[0m\u001b[1;33m=\u001b[0m\u001b[0mchr\u001b[0m\u001b[1;33m(\u001b[0m\u001b[0mtest\u001b[0m\u001b[1;33m)\u001b[0m\u001b[1;33m\u001b[0m\u001b[0m\n\u001b[1;32m----> 5\u001b[1;33m     \u001b[0mprint\u001b[0m\u001b[1;33m(\u001b[0m\u001b[0mtest_test\u001b[0m\u001b[1;33m,\u001b[0m\u001b[0mend\u001b[0m\u001b[1;33m=\u001b[0m\u001b[1;34m\" \"\u001b[0m\u001b[1;33m)\u001b[0m\u001b[1;33m\u001b[0m\u001b[0m\n\u001b[0m\u001b[0;32m      6\u001b[0m \u001b[1;33m\u001b[0m\u001b[0m\n",
      "\u001b[1;31mNameError\u001b[0m: name 'test_test' is not defined"
     ]
    }
   ],
   "source": [
    "email =\"ddew@163.com\"\n",
    "for i in email:\n",
    "    test=ord(i)+1\n",
    "    tese_test=chr(test)\n",
    "    print(test_test,end=\" \")\n",
    "  \n"
   ]
  },
  {
   "cell_type": "markdown",
   "metadata": {},
   "source": [
    "## 转义序列 \\\n",
    "- a = \"He said,\"Johon's program is easy to read\"\""
   ]
  },
  {
   "cell_type": "markdown",
   "metadata": {},
   "source": [
    "## 高级print\n",
    "- 参数 end： 以什么方式结束打印\n",
    "- 默认换行打印"
   ]
  },
  {
   "cell_type": "markdown",
   "metadata": {},
   "source": [
    "## 函数str\n",
    "- 将类型强制转换成字符串类型\n",
    "- 其他一些以后会学到(list,set,tuple...)"
   ]
  },
  {
   "cell_type": "code",
   "execution_count": 7,
   "metadata": {},
   "outputs": [
    {
     "data": {
      "text/plain": [
       "'100.0'"
      ]
     },
     "execution_count": 7,
     "metadata": {},
     "output_type": "execute_result"
    }
   ],
   "source": [
    "a=100.0\n",
    "\n",
    "str(a)"
   ]
  },
  {
   "cell_type": "markdown",
   "metadata": {},
   "source": [
    "## 字符串连接操作\n",
    "- 直接使用 “+” \n",
    "- join() 函数 "
   ]
  },
  {
   "cell_type": "code",
   "execution_count": 8,
   "metadata": {},
   "outputs": [
    {
     "name": "stdout",
     "output_type": "stream",
     "text": [
      "jokerfdfdf\n"
     ]
    }
   ],
   "source": [
    "a1=\"joker\"\n",
    "a2=\"fdfdf\"\n",
    "print(a1+a2)"
   ]
  },
  {
   "cell_type": "code",
   "execution_count": 11,
   "metadata": {},
   "outputs": [
    {
     "name": "stdout",
     "output_type": "stream",
     "text": [
      "www.baidu.com/page=0\n",
      "www.baidu.com/page=1\n",
      "www.baidu.com/page=2\n",
      "www.baidu.com/page=3\n",
      "www.baidu.com/page=4\n",
      "www.baidu.com/page=5\n",
      "www.baidu.com/page=6\n",
      "www.baidu.com/page=7\n",
      "www.baidu.com/page=8\n",
      "www.baidu.com/page=9\n",
      "www.baidu.com/page=10\n",
      "www.baidu.com/page=11\n",
      "www.baidu.com/page=12\n",
      "www.baidu.com/page=13\n",
      "www.baidu.com/page=14\n",
      "www.baidu.com/page=15\n",
      "www.baidu.com/page=16\n",
      "www.baidu.com/page=17\n",
      "www.baidu.com/page=18\n",
      "www.baidu.com/page=19\n",
      "www.baidu.com/page=20\n",
      "www.baidu.com/page=21\n",
      "www.baidu.com/page=22\n",
      "www.baidu.com/page=23\n",
      "www.baidu.com/page=24\n",
      "www.baidu.com/page=25\n",
      "www.baidu.com/page=26\n",
      "www.baidu.com/page=27\n",
      "www.baidu.com/page=28\n",
      "www.baidu.com/page=29\n",
      "www.baidu.com/page=30\n",
      "www.baidu.com/page=31\n",
      "www.baidu.com/page=32\n",
      "www.baidu.com/page=33\n",
      "www.baidu.com/page=34\n",
      "www.baidu.com/page=35\n",
      "www.baidu.com/page=36\n",
      "www.baidu.com/page=37\n",
      "www.baidu.com/page=38\n",
      "www.baidu.com/page=39\n",
      "www.baidu.com/page=40\n",
      "www.baidu.com/page=41\n",
      "www.baidu.com/page=42\n",
      "www.baidu.com/page=43\n",
      "www.baidu.com/page=44\n",
      "www.baidu.com/page=45\n",
      "www.baidu.com/page=46\n",
      "www.baidu.com/page=47\n",
      "www.baidu.com/page=48\n",
      "www.baidu.com/page=49\n",
      "www.baidu.com/page=50\n",
      "www.baidu.com/page=51\n",
      "www.baidu.com/page=52\n",
      "www.baidu.com/page=53\n",
      "www.baidu.com/page=54\n",
      "www.baidu.com/page=55\n",
      "www.baidu.com/page=56\n",
      "www.baidu.com/page=57\n",
      "www.baidu.com/page=58\n",
      "www.baidu.com/page=59\n",
      "www.baidu.com/page=60\n",
      "www.baidu.com/page=61\n",
      "www.baidu.com/page=62\n",
      "www.baidu.com/page=63\n",
      "www.baidu.com/page=64\n",
      "www.baidu.com/page=65\n",
      "www.baidu.com/page=66\n",
      "www.baidu.com/page=67\n",
      "www.baidu.com/page=68\n",
      "www.baidu.com/page=69\n",
      "www.baidu.com/page=70\n",
      "www.baidu.com/page=71\n",
      "www.baidu.com/page=72\n",
      "www.baidu.com/page=73\n",
      "www.baidu.com/page=74\n",
      "www.baidu.com/page=75\n",
      "www.baidu.com/page=76\n",
      "www.baidu.com/page=77\n",
      "www.baidu.com/page=78\n",
      "www.baidu.com/page=79\n",
      "www.baidu.com/page=80\n",
      "www.baidu.com/page=81\n",
      "www.baidu.com/page=82\n",
      "www.baidu.com/page=83\n",
      "www.baidu.com/page=84\n",
      "www.baidu.com/page=85\n",
      "www.baidu.com/page=86\n",
      "www.baidu.com/page=87\n",
      "www.baidu.com/page=88\n",
      "www.baidu.com/page=89\n",
      "www.baidu.com/page=90\n",
      "www.baidu.com/page=91\n",
      "www.baidu.com/page=92\n",
      "www.baidu.com/page=93\n",
      "www.baidu.com/page=94\n",
      "www.baidu.com/page=95\n",
      "www.baidu.com/page=96\n",
      "www.baidu.com/page=97\n",
      "www.baidu.com/page=98\n",
      "www.baidu.com/page=99\n"
     ]
    }
   ],
   "source": [
    "a1=\"www.baidu.com/page=\"\n",
    "for i in range(100):\n",
    "    a2=a1+str(i)\n",
    "    print(a2)\n"
   ]
  },
  {
   "cell_type": "code",
   "execution_count": 16,
   "metadata": {},
   "outputs": [
    {
     "data": {
      "text/plain": [
       "'awww.baidu.comcwww.baidu.com2www.baidu.com5'"
      ]
     },
     "execution_count": 16,
     "metadata": {},
     "output_type": "execute_result"
    }
   ],
   "source": [
    "\"www.baidu.com\".join((\"a\",\"c\",\"2\",\"5\"))"
   ]
  },
  {
   "cell_type": "code",
   "execution_count": 17,
   "metadata": {},
   "outputs": [
    {
     "name": "stdout",
     "output_type": "stream",
     "text": [
      "Wall time: 0 ns\n"
     ]
    },
    {
     "data": {
      "text/plain": [
       "'awww.baidu.comcwww.baidu.com2www.baidu.com5'"
      ]
     },
     "execution_count": 17,
     "metadata": {},
     "output_type": "execute_result"
    }
   ],
   "source": [
    "%time \"www.baidu.com\".join((\"a\",\"c\",\"2\",\"5\"))"
   ]
  },
  {
   "cell_type": "markdown",
   "metadata": {},
   "source": [
    "## EP：\n",
    "- 将 “Welcome” “to” \"Python\" 拼接\n",
    "- 将int型 100 与 “joker is a bad man” 拼接\n",
    "- 从控制台读取字符串\n",
    "> 输入一个名字返回夸奖此人是一个帅哥"
   ]
  },
  {
   "cell_type": "code",
   "execution_count": 19,
   "metadata": {},
   "outputs": [
    {
     "data": {
      "text/plain": [
       "'Welcome to  Python'"
      ]
     },
     "execution_count": 19,
     "metadata": {},
     "output_type": "execute_result"
    }
   ],
   "source": [
    "\"\".join((\"Welcome \",\"to \",\" Python\"))"
   ]
  },
  {
   "cell_type": "code",
   "execution_count": 23,
   "metadata": {},
   "outputs": [
    {
     "name": "stdout",
     "output_type": "stream",
     "text": [
      "100 joker is a bad man\n"
     ]
    }
   ],
   "source": [
    "a=str(100)\n",
    "b=\" joker is a bad man\"\n",
    "print(a+b)"
   ]
  },
  {
   "cell_type": "markdown",
   "metadata": {},
   "source": [
    "## 实例研究：最小数量硬币\n",
    "- 开发一个程序，让用户输入总金额，这是一个用美元和美分表示的浮点值，返回一个由美元、两角五分的硬币、一角的硬币、五分硬币、以及美分个数\n",
    "<img src=\"../Photo/22.png\"></img>"
   ]
  },
  {
   "cell_type": "code",
   "execution_count": 24,
   "metadata": {},
   "outputs": [
    {
     "name": "stdout",
     "output_type": "stream",
     "text": [
      "Ennter an amount,for example 11.56:11.56\n",
      "1156\n",
      "11 2 0 1 1\n"
     ]
    }
   ],
   "source": [
    "amount = eval(input('Ennter an amount,for example 11.56:'))\n",
    "remainingAmount = int(amount * 100)\n",
    "print(remainingAmount)\n",
    "numberOfOneDollars = remainingAmount //100\n",
    "remainingAmount = remainingAmount % 100\n",
    "numberOfQuarters = remainingAmount // 25\n",
    "remainingAmount = remainingAmount % 25\n",
    "numberOfDimes = remainingAmount // 10\n",
    "remainingAmount = remainingAmount % 10\n",
    "numberOfNickls = remainingAmount // 5\n",
    "remainingAmount = remainingAmount % 5\n",
    "numberOfPenies = remainingAmount\n",
    "print(numberOfOneDollars,numberOfQuarters,numberOfDimes,numberOfNickls,numberOfPenies)"
   ]
  },
  {
   "cell_type": "markdown",
   "metadata": {},
   "source": [
    "- Python弱项，对于浮点型的处理并不是很好，但是处理数据的时候使用的是Numpy类型\n",
    "<img src=\"../Photo/23.png\"></img>"
   ]
  },
  {
   "cell_type": "code",
   "execution_count": 1,
   "metadata": {},
   "outputs": [
    {
     "name": "stdout",
     "output_type": "stream",
     "text": [
      "Ennter an amount,for example 11.56:1003\n",
      "1003\n",
      "10 0 0 0 3\n"
     ]
    }
   ],
   "source": [
    "remainingAmount = eval(input('Ennter an amount,for example 11.56:'))\n",
    "print(remainingAmount)\n",
    "numberOfOneDollars = remainingAmount //100\n",
    "remainingAmount = remainingAmount % 100\n",
    "numberOfQuarters = remainingAmount // 25\n",
    "remainingAmount = remainingAmount % 25\n",
    "numberOfDimes = remainingAmount // 10\n",
    "remainingAmount = remainingAmount % 10\n",
    "numberOfNickls = remainingAmount // 5\n",
    "remainingAmount = remainingAmount % 5\n",
    "numberOfPenies = remainingAmount\n",
    "print(numberOfOneDollars,numberOfQuarters,numberOfDimes,numberOfNickls,numberOfPenies)"
   ]
  },
  {
   "cell_type": "markdown",
   "metadata": {},
   "source": [
    "## id与type\n",
    "- id 查看内存地址，在判断语句中将会使用\n",
    "- type 查看元素类型"
   ]
  },
  {
   "cell_type": "code",
   "execution_count": 25,
   "metadata": {},
   "outputs": [
    {
     "data": {
      "text/plain": [
       "1671526976"
      ]
     },
     "execution_count": 25,
     "metadata": {},
     "output_type": "execute_result"
    }
   ],
   "source": [
    "a=100\n",
    "id(a)"
   ]
  },
  {
   "cell_type": "code",
   "execution_count": 26,
   "metadata": {},
   "outputs": [
    {
     "data": {
      "text/plain": [
       "1671523840"
      ]
     },
     "execution_count": 26,
     "metadata": {},
     "output_type": "execute_result"
    }
   ],
   "source": [
    "id(2)"
   ]
  },
  {
   "cell_type": "markdown",
   "metadata": {},
   "source": [
    "## 其他格式化语句见书"
   ]
  },
  {
   "cell_type": "code",
   "execution_count": 29,
   "metadata": {},
   "outputs": [
    {
     "data": {
      "text/plain": [
       "True"
      ]
     },
     "execution_count": 29,
     "metadata": {},
     "output_type": "execute_result"
    }
   ],
   "source": [
    "112124313213345345 is 112124313213345345 #判断是内存地址 是同一个地址为true"
   ]
  },
  {
   "cell_type": "code",
   "execution_count": null,
   "metadata": {},
   "outputs": [],
   "source": []
  },
  {
   "cell_type": "markdown",
   "metadata": {},
   "source": [
    "# Homework\n",
    "- 1\n",
    "<img src=\"../Photo/24.png\"><img>\n",
    "<img src=\"../Photo/25.png\"><img>"
   ]
  },
  {
   "cell_type": "code",
   "execution_count": 33,
   "metadata": {},
   "outputs": [
    {
     "name": "stdout",
     "output_type": "stream",
     "text": [
      "r=2\n",
      "9.510565162951538\n"
     ]
    }
   ],
   "source": [
    "r=eval(input(\"r=\"))\n",
    "import math\n",
    "s=2*r*math.sin(math.pi/5)\n",
    "Area=5*s*s/(4*math.tan(math.pi/5))\n",
    "print(Area)"
   ]
  },
  {
   "cell_type": "markdown",
   "metadata": {},
   "source": [
    "- 2\n",
    "<img src=\"../Photo/26.png\"><img>"
   ]
  },
  {
   "cell_type": "code",
   "execution_count": 41,
   "metadata": {},
   "outputs": [
    {
     "name": "stdout",
     "output_type": "stream",
     "text": [
      "x139.55\n",
      "y1-116.25\n",
      "x241\n",
      "y287.37\n",
      "10744.634544382838\n"
     ]
    }
   ],
   "source": [
    "import math\n",
    "x1=math.radians(eval(input(\"x1\")))\n",
    "y1=math.radians(eval(input(\"y1\")))\n",
    "x2=math.radians(eval(input(\"x2\")))\n",
    "y2=math.radians(eval(input(\"y2\")))\n",
    "radius=6371.01                     \n",
    "d=radius*math.acos(math.sin(x1)*math.sin(x2)+math.cos(x1)*math.cos(x2)*math.cos(y1-y2))\n",
    "print(d)"
   ]
  },
  {
   "cell_type": "markdown",
   "metadata": {},
   "source": [
    "- 3\n",
    "<img src=\"../Photo/27.png\"><img>"
   ]
  },
  {
   "cell_type": "code",
   "execution_count": 42,
   "metadata": {},
   "outputs": [
    {
     "name": "stdout",
     "output_type": "stream",
     "text": [
      "s5.5\n",
      "52.044441367816255\n"
     ]
    }
   ],
   "source": [
    "s=eval(input(\"s\"))\n",
    "import math\n",
    "Area=(5*s*s)/(4*math.tan(math.pi/5))\n",
    "print(Area)\n"
   ]
  },
  {
   "cell_type": "markdown",
   "metadata": {},
   "source": [
    "- 4\n",
    "<img src=\"../Photo/28.png\"><img>"
   ]
  },
  {
   "cell_type": "code",
   "execution_count": 43,
   "metadata": {},
   "outputs": [
    {
     "name": "stdout",
     "output_type": "stream",
     "text": [
      "s6.5\n",
      "n5\n",
      "72.69017017488386\n"
     ]
    }
   ],
   "source": [
    "s=eval(input(\"s\"))\n",
    "n=eval(input(\"n\"))\n",
    "import math\n",
    "Area=(n*s*s)/(4*math.tan(math.pi/n))\n",
    "print(Area)\n"
   ]
  },
  {
   "cell_type": "markdown",
   "metadata": {},
   "source": [
    "- 5\n",
    "<img src=\"../Photo/29.png\"><img>\n",
    "<img src=\"../Photo/30.png\"><img>"
   ]
  },
  {
   "cell_type": "code",
   "execution_count": 46,
   "metadata": {},
   "outputs": [
    {
     "name": "stdout",
     "output_type": "stream",
     "text": [
      "数69\n",
      "E\n"
     ]
    }
   ],
   "source": [
    "numb=eval(input(\"数\"))\n",
    "x=chr(numb)\n",
    "print(x)"
   ]
  },
  {
   "cell_type": "markdown",
   "metadata": {},
   "source": [
    "- 6\n",
    "<img src=\"../Photo/31.png\"><img>"
   ]
  },
  {
   "cell_type": "code",
   "execution_count": 47,
   "metadata": {},
   "outputs": [
    {
     "name": "stdout",
     "output_type": "stream",
     "text": [
      "Enter employee's name:  smth\n",
      "Enter number of hours worked in a week:  10\n",
      "Enter hourly pay rate:  50\n",
      "Enter federal tax withholding rate:  0.2\n",
      "Enter state tax withholding rate:  0.9\n",
      "Employee Name: smth\n",
      "Hours Worked: 10.0\n",
      "Pay Rate: $50\n",
      "Gross Pay: $500\n",
      "Deductions:\n",
      "  Federal Withholding (20.0%): $100.0\n",
      "  State Withholding (9.0%): $450.0\n",
      "  Total Deduction: $550.0\n",
      "Net Pay: $-50.0\n"
     ]
    }
   ],
   "source": [
    "name=input(\"Enter employee's name:  \")\n",
    "workhour=eval(input(\"Enter number of hours worked in a week:  \"))\n",
    "hourly_pay=eval(input(\"Enter hourly pay rate:  \"))\n",
    "federal_tax_rate=eval(input(\"Enter federal tax withholding rate:  \"))\n",
    "state_tax_rate=eval (input(\"Enter state tax withholding rate:  \"))\n",
    "\n",
    "gross_pay=workhour*hourly_pay\n",
    "federal_tax=gross_pay*federal_tax_rate\n",
    "state_tax=gross_pay*state_tax_rate\n",
    "total_deduction=federal_tax+state_tax\n",
    "net_pay=gross_pay-federal_tax-state_tax\n",
    "\n",
    "print(\"Employee Name:\",name)\n",
    "print(\"Hours Worked:\",float(workhour))\n",
    "print(\"Pay Rate:\",\"${}\".format(hourly_pay))\n",
    "print(\"Gross Pay:\",\"${}\".format(gross_pay))\n",
    "print(\"Deductions:\")\n",
    "print(\"  Federal Withholding (20.0%):\",\"${}\".format(federal_tax))\n",
    "print(\"  State Withholding (9.0%):\",\"${}\".format(state_tax))\n",
    "print(\"  Total Deduction:\",\"${}\".format(total_deduction))\n",
    "print(\"Net Pay:\",\"${}\".format(net_pay))\n"
   ]
  },
  {
   "cell_type": "markdown",
   "metadata": {},
   "source": [
    "- 7\n",
    "<img src=\"../Photo/32.png\"><img>"
   ]
  },
  {
   "cell_type": "code",
   "execution_count": 48,
   "metadata": {},
   "outputs": [
    {
     "name": "stdout",
     "output_type": "stream",
     "text": [
      "四位数1234\n",
      "4321\n"
     ]
    }
   ],
   "source": [
    "num=eval(input(\"四位数\"))\n",
    "a=num//1000\n",
    "b=(num-a*1000)//100\n",
    "c=(num-a*1000-b*100)//10\n",
    "d=num%10\n",
    "a1=a\n",
    "a2=b*10\n",
    "a3=c*100\n",
    "a4=d*1000\n",
    "new_num=a1+a2+a3+a4\n",
    "print(new_num)\n"
   ]
  },
  {
   "cell_type": "markdown",
   "metadata": {},
   "source": [
    "- 8 进阶：\n",
    "> 加密一串文本，并将解密后的文件写入本地保存"
   ]
  },
  {
   "cell_type": "code",
   "execution_count": 51,
   "metadata": {},
   "outputs": [
    {
     "name": "stdout",
     "output_type": "stream",
     "text": [
      "戒仭夨宷郾靟帹兴泩昩太圩赬尕辜埻丿衍皅俅羏颇寽亻伛晥－戒仭习泩愐刱亇盹兴抦達〃\u000b",
      "丮斺寺亏俅羏兄馗圩赬尕辜埻丿衍伛晥衩礻欣迏－俅罘新咍羏图郾昰聕吉图宊琇伛皅帹仼琇二图咍寍朊野覂图陆彲哎皅夨图－\u000b",
      "寺亏图陆咍年丏宊兩贠朊野覂皅贤仼〃\u000b",
      "丮斺乑观俅羏攺喅兴糼－戒仭帍朜俅羏反斺务弻沠逛寺诞－扪夨吉佝－\u000b",
      "朊刪亏丗畍皅咍年丏叒屖二丛－朊刪亏图陆礿伛搻扌底寺兲名皅挒戙〃\n",
      "----------\n",
      "我们大家都非常关注昨天在赫尔辛基举行的俄美领导人会晤，我们也注意到了相关报道。\n",
      "中方对于俄美元首在赫尔辛基举行会晤表示欢迎，俄罗斯和美国都是联合国安理会的常任理事国和富有重要国际影响的大国，\n",
      "对于国际和平与安全负有重要的责任。\n",
      "中方乐见俄美改善关系，我们希望俄美双方加强沟通对话，扩大合作，\n",
      "有利于世界的和平与发展事业，有利于国际社会携手应对共同的挑战。"
     ]
    }
   ],
   "source": [
    "wenjian='''我们大家都非常关注昨天在赫尔辛基举行的俄美领导人会晤，我们也注意到了相关报道。\n",
    "中方对于俄美元首在赫尔辛基举行会晤表示欢迎，俄罗斯和美国都是联合国安理会的常任理事国和富有重要国际影响的大国，\n",
    "对于国际和平与安全负有重要的责任。\n",
    "中方乐见俄美改善关系，我们希望俄美双方加强沟通对话，扩大合作，\n",
    "有利于世界的和平与发展事业，有利于国际社会携手应对共同的挑战。'''\n",
    "test_test=''\n",
    "jiemi_t=''\n",
    "for i in wenjian:\n",
    "        test=ord(i)+1\n",
    "        test_test=test_test+chr(test)\n",
    "print(test_test,end='')\n",
    "print('\\n----------')\n",
    "for i in test_test:\n",
    "        jiemi=ord(i)-1\n",
    "        jiemi_t=jiemi_t+chr(jiemi)\n",
    "print(jiemi_t,end='')\n"
   ]
  },
  {
   "cell_type": "code",
   "execution_count": null,
   "metadata": {},
   "outputs": [],
   "source": []
  }
 ],
 "metadata": {
  "kernelspec": {
   "display_name": "Python 3",
   "language": "python",
   "name": "python3"
  },
  "language_info": {
   "codemirror_mode": {
    "name": "ipython",
    "version": 3
   },
   "file_extension": ".py",
   "mimetype": "text/x-python",
   "name": "python",
   "nbconvert_exporter": "python",
   "pygments_lexer": "ipython3",
   "version": "3.6.4"
  }
 },
 "nbformat": 4,
 "nbformat_minor": 2
}
