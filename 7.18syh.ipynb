{
 "cells": [
  {
   "cell_type": "markdown",
   "metadata": {},
   "source": [
    "# 选择\n",
    "## 布尔类型、数值和表达式\n",
    "![](../Photo/33.png)\n",
    "- 注意：比较运算符的相等是两个等到，一个等到代表赋值\n",
    "- 在Python中可以用整型0来代表False，其他数字来代表True\n",
    "- 后面还会讲到 is 在判断语句中的用发"
   ]
  },
  {
   "cell_type": "code",
   "execution_count": 1,
   "metadata": {},
   "outputs": [
    {
     "data": {
      "text/plain": [
       "True"
      ]
     },
     "execution_count": 1,
     "metadata": {},
     "output_type": "execute_result"
    }
   ],
   "source": [
    "a= 100\n",
    "b=100\n",
    "a<=b\n"
   ]
  },
  {
   "cell_type": "code",
   "execution_count": 2,
   "metadata": {},
   "outputs": [
    {
     "data": {
      "text/plain": [
       "False"
      ]
     },
     "execution_count": 2,
     "metadata": {},
     "output_type": "execute_result"
    }
   ],
   "source": [
    "c=\"loker\"\n",
    "d=\"nanaan\"\n",
    "c>d# 字符串的比较使用ASCII值"
   ]
  },
  {
   "cell_type": "markdown",
   "metadata": {},
   "source": []
  },
  {
   "cell_type": "code",
   "execution_count": 3,
   "metadata": {},
   "outputs": [
    {
     "data": {
      "text/plain": [
       "True"
      ]
     },
     "execution_count": 3,
     "metadata": {},
     "output_type": "execute_result"
    }
   ],
   "source": [
    "e=100\n",
    "f=100\n",
    "e==f\n"
   ]
  },
  {
   "cell_type": "code",
   "execution_count": 4,
   "metadata": {},
   "outputs": [
    {
     "data": {
      "text/plain": [
       "True"
      ]
     },
     "execution_count": 4,
     "metadata": {},
     "output_type": "execute_result"
    }
   ],
   "source": [
    "e1 = 101\n",
    "e2=  102\n",
    "e1!=e2"
   ]
  },
  {
   "cell_type": "markdown",
   "metadata": {},
   "source": [
    "## EP:\n",
    "- <img src=\"../Photo/34.png\"></img>\n",
    "- 输入一个数字，判断其实奇数还是偶数"
   ]
  },
  {
   "cell_type": "code",
   "execution_count": 7,
   "metadata": {},
   "outputs": [
    {
     "data": {
      "text/plain": [
       "False"
      ]
     },
     "execution_count": 7,
     "metadata": {},
     "output_type": "execute_result"
    }
   ],
   "source": [
    "i=int(True)\n",
    "j=int(False)\n",
    "j==i"
   ]
  },
  {
   "cell_type": "code",
   "execution_count": 9,
   "metadata": {},
   "outputs": [
    {
     "name": "stdout",
     "output_type": "stream",
     "text": [
      "True\n",
      "False\n"
     ]
    }
   ],
   "source": [
    "i=(True)\n",
    "j=(False)\n",
    "print(i)\n",
    "print(j)\n"
   ]
  },
  {
   "cell_type": "code",
   "execution_count": null,
   "metadata": {},
   "outputs": [],
   "source": [
    "import random\n",
    "x1=eval(input(\"x1\"))\n",
    "i=random.randint(0,100)\n",
    "j=i%2\n",
    "if j!=0:\n",
    "    print(\"y\")\n",
    "else:\n",
    "    print(\"n\")\n",
    "        \n"
   ]
  },
  {
   "cell_type": "markdown",
   "metadata": {},
   "source": [
    "## 产生随机数字\n",
    "- 函数random.randint(a,b) 可以用来产生一个a和b之间且包括a和b的随机整数"
   ]
  },
  {
   "cell_type": "code",
   "execution_count": null,
   "metadata": {},
   "outputs": [],
   "source": [
    "import random\n"
   ]
  },
  {
   "cell_type": "code",
   "execution_count": 5,
   "metadata": {},
   "outputs": [
    {
     "name": "stdout",
     "output_type": "stream",
     "text": [
      "1\n"
     ]
    }
   ],
   "source": [
    "import random\n",
    "a1=random.randint(0,5)\n",
    "print(a1)"
   ]
  },
  {
   "cell_type": "code",
   "execution_count": 8,
   "metadata": {},
   "outputs": [
    {
     "ename": "TypeError",
     "evalue": "random() takes no arguments (2 given)",
     "output_type": "error",
     "traceback": [
      "\u001b[1;31m---------------------------------------------------------------------------\u001b[0m",
      "\u001b[1;31mTypeError\u001b[0m                                 Traceback (most recent call last)",
      "\u001b[1;32m<ipython-input-8-30e4926c488c>\u001b[0m in \u001b[0;36m<module>\u001b[1;34m()\u001b[0m\n\u001b[0;32m      1\u001b[0m \u001b[1;32mimport\u001b[0m \u001b[0mrandom\u001b[0m\u001b[1;33m\u001b[0m\u001b[0m\n\u001b[1;32m----> 2\u001b[1;33m \u001b[0ma2\u001b[0m\u001b[1;33m=\u001b[0m\u001b[0mrandom\u001b[0m\u001b[1;33m.\u001b[0m\u001b[0mrandom\u001b[0m\u001b[1;33m(\u001b[0m\u001b[1;36m0\u001b[0m\u001b[1;33m,\u001b[0m\u001b[1;36m1\u001b[0m\u001b[1;33m)\u001b[0m\u001b[1;33m\u001b[0m\u001b[0m\n\u001b[0m\u001b[0;32m      3\u001b[0m \u001b[0mprint\u001b[0m\u001b[1;33m(\u001b[0m\u001b[0ma2\u001b[0m\u001b[1;33m)\u001b[0m\u001b[1;33m\u001b[0m\u001b[0m\n",
      "\u001b[1;31mTypeError\u001b[0m: random() takes no arguments (2 given)"
     ]
    }
   ],
   "source": [
    "import random\n",
    "a2=random.random(0,1)               \n",
    "print(a2)"
   ]
  },
  {
   "cell_type": "code",
   "execution_count": 10,
   "metadata": {},
   "outputs": [
    {
     "name": "stdout",
     "output_type": "stream",
     "text": [
      "8\n"
     ]
    }
   ],
   "source": [
    "a3=random.randrange(start=0,stop=10,step=2)\n",
    "print(a3)"
   ]
  },
  {
   "cell_type": "code",
   "execution_count": null,
   "metadata": {},
   "outputs": [],
   "source": [
    "a4=random.Random()\n",
    "print(a4)"
   ]
  },
  {
   "cell_type": "markdown",
   "metadata": {},
   "source": [
    "## EP：\n",
    "- 产生两个随机整数number1和number2，然后显示给用户，使用户输入数字，并判定其是否正确\n",
    "- 进阶:写一个随机序号点名程序"
   ]
  },
  {
   "cell_type": "code",
   "execution_count": 36,
   "metadata": {},
   "outputs": [
    {
     "name": "stdout",
     "output_type": "stream",
     "text": [
      "numb1=1\n",
      "numb2=3\n",
      "1 + 3 = 4\n"
     ]
    }
   ],
   "source": [
    "import random\n",
    "numb1=random.randint(0,9)\n",
    "numb2=random.randint(0,9)\n",
    "numb1=eval(input(\"numb1=\"))\n",
    "numb2=eval(input(\"numb2=\"))\n",
    "print(numb1,\"+\",numb2,\"=\",numb1+numb2)\n"
   ]
  },
  {
   "cell_type": "code",
   "execution_count": null,
   "metadata": {},
   "outputs": [],
   "source": [
    "import random\n",
    "numb1=random.randint(0,4)\n",
    "numb2=random.randint(0,4)\n",
    "numb1=eval(input(\"numb1=\"))\n",
    "numb2=eval(input(\"numb2=\"))\n",
    "print(numb1,\"+\",numb2,\"=\",numb1+numb2)"
   ]
  },
  {
   "cell_type": "code",
   "execution_count": 39,
   "metadata": {},
   "outputs": [
    {
     "name": "stdout",
     "output_type": "stream",
     "text": [
      "4 6\n",
      "数字和10\n",
      "t\n"
     ]
    }
   ],
   "source": [
    "numb1=random.randint(0,10)\n",
    "numb2=random.randint(0,10)\n",
    "print(numb1,numb2)\n",
    "sum=numb1+numb2\n",
    "sum_input=eval(input(\"数字和\"))\n",
    "if sum==sum_input:\n",
    "    print(\"t\")\n",
    "else:\n",
    "    print(\"f\")"
   ]
  },
  {
   "cell_type": "code",
   "execution_count": 62,
   "metadata": {},
   "outputs": [
    {
     "name": "stdout",
     "output_type": "stream",
     "text": [
      "4 4\n"
     ]
    }
   ],
   "source": [
    "import random\n",
    "numb1=random.randint(0,4)\n",
    "numb2=random.randint(0,4)\n",
    "print(numb1,numb2)\n",
    "\n",
    "\n"
   ]
  },
  {
   "cell_type": "code",
   "execution_count": null,
   "metadata": {},
   "outputs": [],
   "source": []
  },
  {
   "cell_type": "markdown",
   "metadata": {},
   "source": [
    "##  其他random方法\n",
    "- random.random 返回0.0到1.0之间前闭后开区间的随机浮点\n",
    "- random.randrange(a,b) 前闭后开"
   ]
  },
  {
   "cell_type": "markdown",
   "metadata": {},
   "source": [
    "## if语句\n",
    "- 如果条件正确就执行一个单向if语句，亦即当条件为真的时候才执行if内部的语句\n",
    "- Python有很多选择语句:\n",
    "> - 单向if \n",
    "  - 双向if-else\n",
    "  - 嵌套if\n",
    "  - 多向if-elif-else\n",
    "  \n",
    "- 注意：当语句含有子语句的时候，那么一定至少要有一个缩进，也就是说如果有儿子存在，那么一定要缩进\n",
    "- 切记不可table键和space混用，单用table 或者 space\n",
    "- 当你输出的结果是无论if是否为真时都需要显示时，语句应该与if对齐"
   ]
  },
  {
   "cell_type": "code",
   "execution_count": 41,
   "metadata": {},
   "outputs": [
    {
     "name": "stdout",
     "output_type": "stream",
     "text": [
      "3333\n"
     ]
    }
   ],
   "source": [
    "if\"a\"==\"b\":\n",
    "    print(\"2111\")\n",
    "print(\"3333\")"
   ]
  },
  {
   "cell_type": "code",
   "execution_count": 55,
   "metadata": {},
   "outputs": [
    {
     "name": "stdout",
     "output_type": "stream",
     "text": [
      "3112233\n"
     ]
    }
   ],
   "source": [
    "if\"a\"==\"b\":\n",
    "    print(\"2111\")\n",
    "elif\"a\"==\"c\":\n",
    "    print(\"3333\")\n",
    "else:\n",
    "    print(\"3112233\")"
   ]
  },
  {
   "cell_type": "code",
   "execution_count": null,
   "metadata": {},
   "outputs": [],
   "source": [
    "import random\n",
    "numb1=random.randint(0,100)\n",
    "\n"
   ]
  },
  {
   "cell_type": "markdown",
   "metadata": {},
   "source": [
    "## EP：\n",
    "- 用户输入一个数字，判断其实奇数还是偶数\n",
    "- 进阶：可以查看下4.5实例研究猜生日"
   ]
  },
  {
   "cell_type": "markdown",
   "metadata": {},
   "source": [
    "## 双向if-else 语句\n",
    "- 如果条件为真，那么走if内部语句，否则走else内部语句"
   ]
  },
  {
   "cell_type": "markdown",
   "metadata": {},
   "source": [
    "## EP：\n",
    "- 产生两个随机整数number1和number2，然后显示给用户，使用户输入数字，并判定其是否正确,如果正确打印“you‘re correct”，否则打印正确答案"
   ]
  },
  {
   "cell_type": "markdown",
   "metadata": {},
   "source": [
    "## 嵌套if 和多向if-elif-else\n",
    "![](../Photo/35.png)"
   ]
  },
  {
   "cell_type": "code",
   "execution_count": null,
   "metadata": {},
   "outputs": [],
   "source": [
    "input \n",
    "if score>=90.0:\n",
    "    grade=\"A\"\n",
    "else:\n",
    "    if score>=80.0:\n",
    "    grade=\"B\"\n",
    "    else:\n",
    "        if score>=70:\n",
    "            grade=\"C\":\n",
    "            else:\n",
    "            if score>=60:\n",
    "            grade=\"D\":"
   ]
  },
  {
   "cell_type": "code",
   "execution_count": 2,
   "metadata": {},
   "outputs": [
    {
     "ename": "SyntaxError",
     "evalue": "invalid syntax (<ipython-input-2-4e07a43a4480>, line 4)",
     "output_type": "error",
     "traceback": [
      "\u001b[1;36m  File \u001b[1;32m\"<ipython-input-2-4e07a43a4480>\"\u001b[1;36m, line \u001b[1;32m4\u001b[0m\n\u001b[1;33m    elif 80<=std<90\u001b[0m\n\u001b[1;37m                   ^\u001b[0m\n\u001b[1;31mSyntaxError\u001b[0m\u001b[1;31m:\u001b[0m invalid syntax\n"
     ]
    }
   ],
   "source": [
    "std=eval (input(\"成绩\"))\n",
    "if std>=90.0:\n",
    "    print(\"A\")\n",
    "elif 80<=std<90\n",
    "    print(\"B\")\n",
    "elif 70<=std<80\n",
    "    print(\"C\")\n",
    "elif 60<=std<70\n",
    "    print(\"D\")"
   ]
  },
  {
   "cell_type": "code",
   "execution_count": 3,
   "metadata": {},
   "outputs": [
    {
     "ename": "SyntaxError",
     "evalue": "invalid syntax (<ipython-input-3-fcdce82bc50a>, line 4)",
     "output_type": "error",
     "traceback": [
      "\u001b[1;36m  File \u001b[1;32m\"<ipython-input-3-fcdce82bc50a>\"\u001b[1;36m, line \u001b[1;32m4\u001b[0m\n\u001b[1;33m    elif 80<=std<90\u001b[0m\n\u001b[1;37m                   ^\u001b[0m\n\u001b[1;31mSyntaxError\u001b[0m\u001b[1;31m:\u001b[0m invalid syntax\n"
     ]
    }
   ],
   "source": [
    "std=eval(input(\"成绩\"))\n",
    "if std>=90.0:\n",
    "    print(\"A\")\n",
    "elif 80<=std<90\n",
    "    print(\"B\")\n",
    "elif 70<=std<80\n",
    "    print(\"C\")\n",
    "elif 60<=std<70\n",
    "    print(\"D\")"
   ]
  },
  {
   "cell_type": "markdown",
   "metadata": {},
   "source": [
    "## EP：\n",
    "- 提示用户输入一个年份，然后显示表示这一年的动物\n",
    "![](../Photo/36.png)\n",
    "- 计算身体质量指数的程序\n",
    "- BMI = 以千克为单位的体重除以以米为单位的身高\n",
    "![](../Photo/37.png)"
   ]
  },
  {
   "cell_type": "code",
   "execution_count": 17,
   "metadata": {},
   "outputs": [
    {
     "name": "stdout",
     "output_type": "stream",
     "text": [
      "year12\n",
      "HOU\n"
     ]
    }
   ],
   "source": [
    "year=eval(input(\"year\"))\n",
    "a=year%12\n",
    "if  a==0:\n",
    "    print(\"HOU\")\n",
    "elif a==1:\n",
    "    print(\"1\")\n",
    "elif  a==2:\n",
    "    print(\"2\")\n",
    "elif  a==3:\n",
    "    print(\"3\")\n",
    "elif  a==4:\n",
    "    print(\"4\")\n",
    "elif  a==5:\n",
    "    print(\"5\")\n",
    "elif  a==6:\n",
    "    print(\"6\")\n",
    "elif  a==7:\n",
    "    print(\"7\")\n",
    "elif  a==8:\n",
    "    print(\"8\")\n",
    "elif  a==9:\n",
    "    print(\"9\")\n",
    "elif  a==10:\n",
    "    print(\"10\")\n",
    "elif  a==11:\n",
    "    print(\"11\")\n"
   ]
  },
  {
   "cell_type": "markdown",
   "metadata": {},
   "source": [
    "## 逻辑运算符\n",
    "![](../Photo/38.png)"
   ]
  },
  {
   "cell_type": "markdown",
   "metadata": {},
   "source": [
    "![](../Photo/39.png)\n",
    "![](../Photo/40.png)"
   ]
  },
  {
   "cell_type": "code",
   "execution_count": 18,
   "metadata": {},
   "outputs": [
    {
     "data": {
      "text/plain": [
       "True"
      ]
     },
     "execution_count": 18,
     "metadata": {},
     "output_type": "execute_result"
    }
   ],
   "source": [
    "\n",
    "not(\"a\"==\"b\")"
   ]
  },
  {
   "cell_type": "code",
   "execution_count": 19,
   "metadata": {},
   "outputs": [
    {
     "ename": "SyntaxError",
     "evalue": "invalid syntax (<ipython-input-19-e9b6499b1827>, line 1)",
     "output_type": "error",
     "traceback": [
      "\u001b[1;36m  File \u001b[1;32m\"<ipython-input-19-e9b6499b1827>\"\u001b[1;36m, line \u001b[1;32m1\u001b[0m\n\u001b[1;33m    if \"a\"==\"b\" and \"c\"==\"c\"\u001b[0m\n\u001b[1;37m                            ^\u001b[0m\n\u001b[1;31mSyntaxError\u001b[0m\u001b[1;31m:\u001b[0m invalid syntax\n"
     ]
    }
   ],
   "source": [
    "if \"a\"==\"b\" and \"c\"==\"c\"\n",
    "print(1323230)"
   ]
  },
  {
   "cell_type": "code",
   "execution_count": 20,
   "metadata": {},
   "outputs": [
    {
     "data": {
      "text/plain": [
       "True"
      ]
     },
     "execution_count": 20,
     "metadata": {},
     "output_type": "execute_result"
    }
   ],
   "source": [
    "100==100 and  100==100"
   ]
  },
  {
   "cell_type": "code",
   "execution_count": null,
   "metadata": {},
   "outputs": [],
   "source": [
    "100==100 "
   ]
  },
  {
   "cell_type": "markdown",
   "metadata": {},
   "source": [
    "## EP：\n",
    "- 判定闰年：一个年份如果能被4整除但不能被100整除，或者能被400整除，那么这个年份就是闰年\n",
    "- 提示用户输入一个年份，并返回是否是闰年\n",
    "- 提示用户输入一个数字，判断其是否为水仙花数"
   ]
  },
  {
   "cell_type": "code",
   "execution_count": 33,
   "metadata": {},
   "outputs": [
    {
     "name": "stdout",
     "output_type": "stream",
     "text": [
      "year2003\n",
      "平年\n"
     ]
    }
   ],
   "source": [
    "year=eval(input(\"year\"))\n",
    "if year%4==0  and year%100!=0 or year%400==0:\n",
    "    print(\"闰年\")\n",
    "else:\n",
    "    print(\"平年\")"
   ]
  },
  {
   "cell_type": "markdown",
   "metadata": {},
   "source": [
    "## 实例研究：彩票\n",
    "![](../Photo/41.png)"
   ]
  },
  {
   "cell_type": "markdown",
   "metadata": {},
   "source": [
    "# Homework\n",
    "- 1\n",
    "![](../Photo/42.png)"
   ]
  },
  {
   "cell_type": "code",
   "execution_count": 46,
   "metadata": {},
   "outputs": [
    {
     "name": "stdout",
     "output_type": "stream",
     "text": [
      "a=1\n",
      "b=2\n",
      "c=1\n",
      "-1\n"
     ]
    }
   ],
   "source": [
    "import math\n",
    "a=eval(input(\"a=\"))\n",
    "b=eval(input(\"b=\"))\n",
    "c=eval(input(\"c=\"))\n",
    "r=b*b - 4*a*c\n",
    "if r>0:\n",
    "    d= math.sqrt(r)\n",
    "    x1=(-b+d)/(2*a)\n",
    "    x2=(b+d)/(2*a)\n",
    "    print(x1,x2)\n",
    "elif r==0:\n",
    "    print(\"-1\")\n",
    "elif r<0:\n",
    "    print(\"123\")"
   ]
  },
  {
   "cell_type": "code",
   "execution_count": 39,
   "metadata": {},
   "outputs": [
    {
     "name": "stdout",
     "output_type": "stream",
     "text": [
      "a1\n",
      "b2\n",
      "c3\n",
      "6\n"
     ]
    }
   ],
   "source": []
  },
  {
   "cell_type": "markdown",
   "metadata": {},
   "source": [
    "- 2\n",
    "![](../Photo/43.png)"
   ]
  },
  {
   "cell_type": "code",
   "execution_count": 55,
   "metadata": {},
   "outputs": [
    {
     "name": "stdout",
     "output_type": "stream",
     "text": [
      "84 93\n",
      "两个数的和1\n",
      "F\n"
     ]
    }
   ],
   "source": [
    "import random\n",
    "numb1=random.randint(0,100)\n",
    "numb2=random.randint(0,100)\n",
    "print(numb1,numb2)\n",
    "sum=numb1+numb2\n",
    "sum_input=eval(input(\"两个数的和\"))\n",
    "if sum==sum_input:\n",
    "    print(\"T\")\n",
    "else:\n",
    "    print(\"F\")"
   ]
  },
  {
   "cell_type": "markdown",
   "metadata": {},
   "source": [
    "- 3\n",
    "![](../Photo/44.png)"
   ]
  },
  {
   "cell_type": "code",
   "execution_count": 58,
   "metadata": {},
   "outputs": [
    {
     "name": "stdout",
     "output_type": "stream",
     "text": [
      "today is=1\n",
      "since today=5\n",
      "today is  1 future day is 6\n"
     ]
    }
   ],
   "source": [
    "a=eval(input(\"today is=\"))\n",
    "b=eval(input(\"since today=\"))\n",
    "if (a+b)%7==0:\n",
    "    print(\"today is \",a, \"future day is  0\")\n",
    "elif (a+b)%7==1:\n",
    "    print(\"today is \",a, \"future day is  1\")\n",
    "elif (a+b)%7==2:\n",
    "    print(\"today is \",a, \"future day is  2\")\n",
    "elif (a+b)%7==3:\n",
    "    print(\"today is \",a, \"future day is  3\")\n",
    "elif (a+b)%7==4:\n",
    "    print(\"today is \",a, \"future day is  4\")\n",
    "elif (a+b)%7==5:\n",
    "    print(\"today is \",a, \"future day is  5\")\n",
    "elif (a+b)%7==6:\n",
    "    print(\"today is \",a, \"future day is 6\")"
   ]
  },
  {
   "cell_type": "markdown",
   "metadata": {},
   "source": [
    "- 4\n",
    "![](../Photo/45.png)"
   ]
  },
  {
   "cell_type": "code",
   "execution_count": 59,
   "metadata": {},
   "outputs": [
    {
     "name": "stdout",
     "output_type": "stream",
     "text": [
      "numb1 is 1\n",
      "numb2 is 3\n",
      "numb3 is 2\n",
      "1 2 3\n"
     ]
    }
   ],
   "source": [
    "numb1=eval(input(\"numb1 is \"))\n",
    "numb2=eval(input(\"numb2 is \"))\n",
    "numb3=eval(input(\"numb3 is \"))\n",
    "if numb1<=numb2<=numb3:\n",
    "    print(numb1,numb2,numb3)\n",
    "elif numb2<=numb1<=numb3:\n",
    "    print(numb2,numb1,numb3)\n",
    "elif numb2<=numb3<=numb1:\n",
    "    print(numb2,numb3,numb1)\n",
    "elif numb1<=numb3<=numb2:\n",
    "    print(numb1,numb3,numb2)\n",
    "elif numb3<=numb2<=numb1:\n",
    "    print(numb3,numb2,numb1)\n",
    "elif numb3<=numb1<=numb2:\n",
    "    print(numb3,numb1,numb2)\n",
    "\n"
   ]
  },
  {
   "cell_type": "markdown",
   "metadata": {},
   "source": [
    "- 5\n",
    "![](../Photo/46.png)"
   ]
  },
  {
   "cell_type": "markdown",
   "metadata": {},
   "source": [
    "- 6\n",
    "![](../Photo/47.png)"
   ]
  },
  {
   "cell_type": "code",
   "execution_count": 63,
   "metadata": {},
   "outputs": [
    {
     "name": "stdout",
     "output_type": "stream",
     "text": [
      "year is 2000\n",
      "mou  is 2\n",
      "year is  2000 mou  is 2 29天\n"
     ]
    }
   ],
   "source": [
    "year=eval(input(\"year is \"))\n",
    "mou=eval(input(\"mou  is \"))\n",
    "if mou==1 or mou==3 or mou==5 or mou==7 or mou==8  or  mou==10 or mou==12:\n",
    "    print(\"year is \",year,\"mou  is \",mou,\"31天\")\n",
    "elif mou==4 or mou==6 or  mou==9 or mou==11:\n",
    "    print(\"year is \",year,\"mou  is \",mou,\"30天\")  \n",
    "elif year%4==0  and year%100!=0 or year%400==0:\n",
    "    print(\"year is \",year,\"mou  is 2\",\"29天\") \n",
    "else: print(\"year is \",year,\"mou  is 2\",\"28天\") "
   ]
  },
  {
   "cell_type": "markdown",
   "metadata": {},
   "source": [
    "- 7\n",
    "![](../Photo/48.png)"
   ]
  },
  {
   "cell_type": "markdown",
   "metadata": {},
   "source": [
    "- 8\n",
    "![](../Photo/49.png)"
   ]
  },
  {
   "cell_type": "markdown",
   "metadata": {},
   "source": [
    "- 9\n",
    "![](../Photo/50.png)"
   ]
  },
  {
   "cell_type": "markdown",
   "metadata": {},
   "source": [
    "- 10\n",
    "![](../Photo/51.png)"
   ]
  },
  {
   "cell_type": "code",
   "execution_count": null,
   "metadata": {},
   "outputs": [],
   "source": []
  },
  {
   "cell_type": "markdown",
   "metadata": {},
   "source": [
    "- 11\n",
    "![](../Photo/52.png)"
   ]
  },
  {
   "cell_type": "markdown",
   "metadata": {},
   "source": [
    "- 12\n",
    "![](../Photo/53.png)"
   ]
  }
 ],
 "metadata": {
  "kernelspec": {
   "display_name": "Python 3",
   "language": "python",
   "name": "python3"
  },
  "language_info": {
   "codemirror_mode": {
    "name": "ipython",
    "version": 3
   },
   "file_extension": ".py",
   "mimetype": "text/x-python",
   "name": "python",
   "nbconvert_exporter": "python",
   "pygments_lexer": "ipython3",
   "version": "3.6.4"
  }
 },
 "nbformat": 4,
 "nbformat_minor": 2
}
